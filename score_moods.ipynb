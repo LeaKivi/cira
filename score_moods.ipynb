{
 "cells": [
  {
   "cell_type": "code",
   "execution_count": null,
   "metadata": {
    "collapsed": true
   },
   "outputs": [],
   "source": [
    "import requests\n",
    "import json"
   ]
  },
  {
   "cell_type": "code",
   "execution_count": null,
   "metadata": {
    "collapsed": true
   },
   "outputs": [],
   "source": [
    "#text=['Oh man oh man','where is this world going','Ia m soo hungry','I dont like you Cira', 'Junction food sucks','I dont know what I wanna do','How are you','What shall I do today']"
   ]
  },
  {
   "cell_type": "code",
   "execution_count": null,
   "metadata": {
    "collapsed": true
   },
   "outputs": [],
   "source": [
    "import indicoio"
   ]
  },
  {
   "cell_type": "code",
   "execution_count": null,
   "metadata": {
    "collapsed": true
   },
   "outputs": [],
   "source": [
    "#jenny's api key for indicoio\n",
    "indicoio.config.api_key = 'd3b7a4d2761c18a403b04e1fe7802e43'"
   ]
  },
  {
   "cell_type": "code",
   "execution_count": null,
   "metadata": {
    "collapsed": true
   },
   "outputs": [],
   "source": [
    "# get json file of community cira bot\n",
    "response=requests.get('https://api.vk.com/method/groups.getLongPollServer?group_id=174367830&access_token=fbdc5bd3cff381a236f0f30a1b58982ca4ddf1508e03a6513af837d67184c6ffa064d2a6737a897bc012e&v=5.92')\n",
    "community_resp=response.json()\n",
    "print(community_resp)\n",
    "print(community_resp['response']['key'])"
   ]
  },
  {
   "cell_type": "code",
   "execution_count": null,
   "metadata": {
    "collapsed": false
   },
   "outputs": [],
   "source": [
    "messages=requests.get('https://lp.vk.com/wh174367830?act=a_check&key=%s&ts=1&wait=%s'%(community_resp['response']['key'],community_resp['response']['ts']))\n",
    "messages_json=messages.json()"
   ]
  },
  {
   "cell_type": "code",
   "execution_count": null,
   "metadata": {
    "collapsed": false
   },
   "outputs": [],
   "source": [
    "#messages from the community bot json file\n",
    "messages_json"
   ]
  },
  {
   "cell_type": "code",
   "execution_count": null,
   "metadata": {
    "collapsed": true
   },
   "outputs": [],
   "source": [
    "#text_lastmess=messages_json['updates'][-1]['object']['text']"
   ]
  },
  {
   "cell_type": "code",
   "execution_count": null,
   "metadata": {
    "collapsed": false
   },
   "outputs": [],
   "source": [
    "#text_lastmess"
   ]
  },
  {
   "cell_type": "code",
   "execution_count": null,
   "metadata": {
    "collapsed": true
   },
   "outputs": [],
   "source": [
    "#emotion_lastmess=indicoio.emotion(text_lastmess)"
   ]
  },
  {
   "cell_type": "code",
   "execution_count": null,
   "metadata": {
    "collapsed": true
   },
   "outputs": [],
   "source": [
    "# emot_dic={}\n",
    "# emot_dic['anger']=['calm down']"
   ]
  },
  {
   "cell_type": "code",
   "execution_count": null,
   "metadata": {
    "collapsed": false
   },
   "outputs": [],
   "source": [
    "# emotion_lastmess"
   ]
  },
  {
   "cell_type": "code",
   "execution_count": null,
   "metadata": {
    "collapsed": false
   },
   "outputs": [],
   "source": [
    "# resp_mes = \"?\"\n",
    "# if emotion_lastmess['anger']>0.3:\n",
    "#     resp_mes=emot_dic['anger']\n",
    "# print(resp_mes)"
   ]
  },
  {
   "cell_type": "markdown",
   "metadata": {},
   "source": [
    "## Mood Classifier (from user's wall posts)"
   ]
  },
  {
   "cell_type": "code",
   "execution_count": null,
   "metadata": {
    "collapsed": false
   },
   "outputs": [],
   "source": [
    "requests.post('https://api.vk.com/method/messages.send?peer_id=518240818&random_id=1&message=%s&access_token=fbdc5bd3cff381a236f0f30a1b58982ca4ddf1508e03a6513af837d67184c6ffa064d2a6737a897bc012e&v=5.92'%resp_mes)"
   ]
  },
  {
   "cell_type": "markdown",
   "metadata": {},
   "source": [
    "#### Grab the user from the community bot"
   ]
  },
  {
   "cell_type": "code",
   "execution_count": null,
   "metadata": {
    "collapsed": false
   },
   "outputs": [],
   "source": [
    "#get the last user from community bot\n",
    "lastuser = messages_json['updates'][-1]['object']['from_id']\n",
    "\n",
    "#getposts = indicoio.emotion(text_lastmess)"
   ]
  },
  {
   "cell_type": "markdown",
   "metadata": {},
   "source": [
    "#### Get user profile and wall posts"
   ]
  },
  {
   "cell_type": "code",
   "execution_count": null,
   "metadata": {
    "collapsed": true
   },
   "outputs": [],
   "source": [
    "#get json file of last user's profile\n",
    "profile = requests.get('https://api.vk.com/method/wall.get?owner_id='+str(lastuser)+'&access_token=30691f8630691f8630691f8607300e355a3306930691f866b917e8e8459c4931e49642f&v=5.92')\n",
    "profile = profile.json()"
   ]
  },
  {
   "cell_type": "code",
   "execution_count": null,
   "metadata": {
    "collapsed": false
   },
   "outputs": [],
   "source": [
    "#get the wall posts from the last user's profile\n",
    "wallposts = profile['response']['items']\n",
    "wallposts"
   ]
  },
  {
   "cell_type": "markdown",
   "metadata": {},
   "source": [
    "### Analyze all wall posts for mood"
   ]
  },
  {
   "cell_type": "code",
   "execution_count": null,
   "metadata": {
    "collapsed": false
   },
   "outputs": [],
   "source": [
    "#DICTIONARIES\n",
    "# moods - dictionary of users : dictionary of 5 moods and their average score\n",
    "# counter - for incremental averages of moods\n",
    "score = 0\n",
    "moods = {}\n",
    "#     {'owner_id': \n",
    "#          {'joy': score, 'surprise': score, 'anger': score, 'fear': score, 'sadness': score}\n",
    "#         }\n",
    "counter = {'owner_id': 0}"
   ]
  },
  {
   "cell_type": "code",
   "execution_count": null,
   "metadata": {
    "collapsed": false
   },
   "outputs": [],
   "source": [
    "def updateMood(user, feel, newscore):\n",
    "        currscore = moods[user][feel]\n",
    "        val = ((newscore - currscore) / counter[user])\n",
    "        moods[person][feel] += val\n",
    "        \n",
    "#scores emotions for each comment\n",
    "for each in wallposts:\n",
    "    user = each['owner_id']\n",
    "    if user not in counter:\n",
    "        counter[user] = 0\n",
    "        moods[user] = {'joy': 0, 'surprise': 0, 'anger': 0, 'fear': 0, 'sadness': 0}\n",
    "    \n",
    "    counter[user] += 1\n",
    "    emotions = indicoio.emotion(each['text'])\n",
    "#     print(\"EMOTION INFO:  \", emotions)\n",
    "    \n",
    "    #incremental average moods\n",
    "    for feel in emotions:\n",
    "        updateMood(user, feel, emotions[feel])\n",
    "#     print(\"EMOTION AVERAGE:  \", moods)\n",
    "#     print()\n",
    "\n",
    "print(moods)\n",
    "print(counter)"
   ]
  },
  {
   "cell_type": "markdown",
   "metadata": {},
   "source": [
    "### Check for the mood"
   ]
  },
  {
   "cell_type": "code",
   "execution_count": null,
   "metadata": {
    "collapsed": false
   },
   "outputs": [],
   "source": [
    "#active bot output\n",
    "\n",
    "import operator\n",
    "\n",
    "def getConf(mood):\n",
    "    if mood > 0.5:\n",
    "        return 2\n",
    "    elif mood > 0.2:\n",
    "        return 1\n",
    "    else:\n",
    "        return 0\n",
    "\n",
    "def checkMood(user):\n",
    "    maxMood = max(moods[user].items(), key=operator.itemgetter(1))[0]\n",
    "    moodConf = getConf(moods[user][maxMood])\n",
    "    if moodConf is 0:\n",
    "        return (neutral, -1)\n",
    "    return(maxMood, moodConf)\n",
    "\n",
    "checkMood(518274967)"
   ]
  },
  {
   "cell_type": "code",
   "execution_count": null,
   "metadata": {
    "collapsed": true
   },
   "outputs": [],
   "source": []
  }
 ],
 "metadata": {
  "anaconda-cloud": {},
  "kernelspec": {
   "display_name": "Python [default]",
   "language": "python",
   "name": "python3"
  },
  "language_info": {
   "codemirror_mode": {
    "name": "ipython",
    "version": 3
   },
   "file_extension": ".py",
   "mimetype": "text/x-python",
   "name": "python",
   "nbconvert_exporter": "python",
   "pygments_lexer": "ipython3",
   "version": "3.5.2"
  }
 },
 "nbformat": 4,
 "nbformat_minor": 2
}
