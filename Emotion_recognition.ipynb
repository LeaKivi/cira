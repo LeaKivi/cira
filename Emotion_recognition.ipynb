{
 "cells": [
  {
   "cell_type": "code",
   "execution_count": 12,
   "metadata": {},
   "outputs": [],
   "source": [
    "import requests\n",
    "import json"
   ]
  },
  {
   "cell_type": "code",
   "execution_count": 2,
   "metadata": {},
   "outputs": [],
   "source": [
    "text=['Oh man oh man','where is this world going','Ia m soo hungry','I dont like you Cira', 'Junction food sucks','I dont know what I wanna do','How are you','What shall I do today']"
   ]
  },
  {
   "cell_type": "code",
   "execution_count": 7,
   "metadata": {},
   "outputs": [],
   "source": [
    "import indicoio"
   ]
  },
  {
   "cell_type": "code",
   "execution_count": 8,
   "metadata": {},
   "outputs": [],
   "source": [
    "indicoio.config.api_key = 'ca9799d5cdd695159b4e0ea7d6630072'"
   ]
  },
  {
   "cell_type": "code",
   "execution_count": 10,
   "metadata": {},
   "outputs": [],
   "source": [
    "response=requests.get('https://api.vk.com/method/groups.getLongPollServer?group_id=174367830&access_token=fbdc5bd3cff381a236f0f30a1b58982ca4ddf1508e03a6513af837d67184c6ffa064d2a6737a897bc012e&v=5.92')"
   ]
  },
  {
   "cell_type": "code",
   "execution_count": 18,
   "metadata": {},
   "outputs": [
    {
     "name": "stdout",
     "output_type": "stream",
     "text": [
      "{'response': {'key': 'ab2068a1a898c7fac0bd995ad3bd0a978679668f', 'server': 'https://lp.vk.com/wh174367830', 'ts': '10'}}\n",
      "ab2068a1a898c7fac0bd995ad3bd0a978679668f\n"
     ]
    }
   ],
   "source": [
    "community_resp=response.json()\n",
    "print(community_resp)\n",
    "print(community_resp['response']['key'])"
   ]
  },
  {
   "cell_type": "code",
   "execution_count": 59,
   "metadata": {},
   "outputs": [],
   "source": [
    "messages=requests.get('https://lp.vk.com/wh174367830?act=a_check&key=%s&ts=1&wait=%s'%(community_resp['response']['key'],community_resp['response']['ts']))"
   ]
  },
  {
   "cell_type": "code",
   "execution_count": 60,
   "metadata": {},
   "outputs": [],
   "source": [
    "messages_json=messages.json()"
   ]
  },
  {
   "cell_type": "code",
   "execution_count": 61,
   "metadata": {},
   "outputs": [
    {
     "data": {
      "text/plain": [
       "{'ts': '20',\n",
       " 'updates': [{'group_id': 174367830,\n",
       "   'object': {'attachments': [],\n",
       "    'conversation_message_id': 3,\n",
       "    'date': 1543049177,\n",
       "    'from_id': 762177,\n",
       "    'fwd_messages': [],\n",
       "    'id': 3,\n",
       "    'important': False,\n",
       "    'is_hidden': False,\n",
       "    'out': 0,\n",
       "    'peer_id': 762177,\n",
       "    'random_id': 0,\n",
       "    'text': 'hello'},\n",
       "   'type': 'message_new'},\n",
       "  {'group_id': 174367830,\n",
       "   'object': {'attachments': [],\n",
       "    'conversation_message_id': 4,\n",
       "    'date': 1543049611,\n",
       "    'from_id': -174367830,\n",
       "    'fwd_messages': [],\n",
       "    'id': 4,\n",
       "    'important': False,\n",
       "    'is_hidden': False,\n",
       "    'out': 1,\n",
       "    'peer_id': 762177,\n",
       "    'random_id': 1,\n",
       "    'text': 'hello'},\n",
       "   'type': 'message_reply'},\n",
       "  {'group_id': 174367830,\n",
       "   'object': {'from_id': 762177, 'state': 'typing', 'to_id': -174367830},\n",
       "   'type': 'message_typing_state'},\n",
       "  {'group_id': 174367830,\n",
       "   'object': {'attachments': [],\n",
       "    'conversation_message_id': 5,\n",
       "    'date': 1543053896,\n",
       "    'from_id': 762177,\n",
       "    'fwd_messages': [],\n",
       "    'id': 5,\n",
       "    'important': False,\n",
       "    'is_hidden': False,\n",
       "    'out': 0,\n",
       "    'peer_id': 762177,\n",
       "    'random_id': 0,\n",
       "    'text': 'test'},\n",
       "   'type': 'message_new'},\n",
       "  {'group_id': 174367830,\n",
       "   'object': {'attachments': [],\n",
       "    'conversation_message_id': 6,\n",
       "    'date': 1543054234,\n",
       "    'from_id': -174367830,\n",
       "    'fwd_messages': [],\n",
       "    'id': 6,\n",
       "    'important': False,\n",
       "    'is_hidden': False,\n",
       "    'out': 1,\n",
       "    'peer_id': 762177,\n",
       "    'random_id': 1,\n",
       "    'text': 'hello'},\n",
       "   'type': 'message_reply'},\n",
       "  {'group_id': 174367830,\n",
       "   'object': {'from_id': 762177, 'state': 'typing', 'to_id': -174367830},\n",
       "   'type': 'message_typing_state'},\n",
       "  {'group_id': 174367830,\n",
       "   'object': {'attachments': [],\n",
       "    'conversation_message_id': 7,\n",
       "    'date': 1543054489,\n",
       "    'from_id': 762177,\n",
       "    'fwd_messages': [],\n",
       "    'id': 7,\n",
       "    'important': False,\n",
       "    'is_hidden': False,\n",
       "    'out': 0,\n",
       "    'peer_id': 762177,\n",
       "    'random_id': 0,\n",
       "    'text': 'test'},\n",
       "   'type': 'message_new'},\n",
       "  {'group_id': 174367830,\n",
       "   'object': {'attachments': [],\n",
       "    'conversation_message_id': 1,\n",
       "    'date': 1543060229,\n",
       "    'from_id': 518240818,\n",
       "    'fwd_messages': [],\n",
       "    'id': 8,\n",
       "    'important': False,\n",
       "    'is_hidden': False,\n",
       "    'out': 0,\n",
       "    'peer_id': 518240818,\n",
       "    'random_id': 0,\n",
       "    'text': 'Hihi'},\n",
       "   'type': 'message_new'},\n",
       "  {'group_id': 174367830,\n",
       "   'object': {'key': '', 'user_id': 518240818},\n",
       "   'type': 'message_allow'},\n",
       "  {'group_id': 174367830,\n",
       "   'object': {'from_id': 518240818, 'state': 'typing', 'to_id': -174367830},\n",
       "   'type': 'message_typing_state'},\n",
       "  {'group_id': 174367830,\n",
       "   'object': {'attachments': [],\n",
       "    'conversation_message_id': 2,\n",
       "    'date': 1543060647,\n",
       "    'from_id': 518240818,\n",
       "    'fwd_messages': [],\n",
       "    'id': 9,\n",
       "    'important': False,\n",
       "    'is_hidden': False,\n",
       "    'out': 0,\n",
       "    'peer_id': 518240818,\n",
       "    'random_id': 0,\n",
       "    'text': \"Cira, I don't know what to do\"},\n",
       "   'type': 'message_new'},\n",
       "  {'group_id': 174367830,\n",
       "   'object': {'from_id': 518240818, 'state': 'typing', 'to_id': -174367830},\n",
       "   'type': 'message_typing_state'},\n",
       "  {'group_id': 174367830,\n",
       "   'object': {'attachments': [],\n",
       "    'conversation_message_id': 3,\n",
       "    'date': 1543060862,\n",
       "    'from_id': 518240818,\n",
       "    'fwd_messages': [],\n",
       "    'id': 10,\n",
       "    'important': False,\n",
       "    'is_hidden': False,\n",
       "    'out': 0,\n",
       "    'peer_id': 518240818,\n",
       "    'random_id': 0,\n",
       "    'text': 'Hi, how are you doing?'},\n",
       "   'type': 'message_new'},\n",
       "  {'group_id': 174367830,\n",
       "   'object': {'attachments': [],\n",
       "    'conversation_message_id': 8,\n",
       "    'date': 1543061054,\n",
       "    'from_id': -174367830,\n",
       "    'fwd_messages': [],\n",
       "    'id': 11,\n",
       "    'important': False,\n",
       "    'is_hidden': False,\n",
       "    'out': 1,\n",
       "    'peer_id': 762177,\n",
       "    'random_id': 1,\n",
       "    'text': 'hello'},\n",
       "   'type': 'message_reply'},\n",
       "  {'group_id': 174367830,\n",
       "   'object': {'from_id': 518240818, 'state': 'typing', 'to_id': -174367830},\n",
       "   'type': 'message_typing_state'},\n",
       "  {'group_id': 174367830,\n",
       "   'object': {'attachments': [],\n",
       "    'conversation_message_id': 4,\n",
       "    'date': 1543061686,\n",
       "    'from_id': 518240818,\n",
       "    'fwd_messages': [],\n",
       "    'id': 12,\n",
       "    'important': False,\n",
       "    'is_hidden': False,\n",
       "    'out': 0,\n",
       "    'peer_id': 518240818,\n",
       "    'random_id': 0,\n",
       "    'text': 'I hate you'},\n",
       "   'type': 'message_new'},\n",
       "  {'group_id': 174367830,\n",
       "   'object': {'attachments': [],\n",
       "    'conversation_message_id': 5,\n",
       "    'date': 1543061783,\n",
       "    'from_id': -174367830,\n",
       "    'fwd_messages': [],\n",
       "    'id': 13,\n",
       "    'important': False,\n",
       "    'is_hidden': False,\n",
       "    'out': 1,\n",
       "    'peer_id': 518240818,\n",
       "    'random_id': 1,\n",
       "    'text': \"['calm down']\"},\n",
       "   'type': 'message_reply'},\n",
       "  {'group_id': 174367830,\n",
       "   'object': {'from_id': 518240818, 'state': 'typing', 'to_id': -174367830},\n",
       "   'type': 'message_typing_state'},\n",
       "  {'group_id': 174367830,\n",
       "   'object': {'attachments': [],\n",
       "    'conversation_message_id': 6,\n",
       "    'date': 1543061823,\n",
       "    'from_id': 518240818,\n",
       "    'fwd_messages': [],\n",
       "    'id': 14,\n",
       "    'important': False,\n",
       "    'is_hidden': False,\n",
       "    'out': 0,\n",
       "    'peer_id': 518240818,\n",
       "    'random_id': 0,\n",
       "    'text': 'I hate you'},\n",
       "   'type': 'message_new'}]}"
      ]
     },
     "execution_count": 61,
     "metadata": {},
     "output_type": "execute_result"
    }
   ],
   "source": [
    "messages_json"
   ]
  },
  {
   "cell_type": "code",
   "execution_count": 62,
   "metadata": {},
   "outputs": [],
   "source": [
    "text_lastmess=messages_json['updates'][-1]['object']['text']"
   ]
  },
  {
   "cell_type": "code",
   "execution_count": 63,
   "metadata": {},
   "outputs": [
    {
     "data": {
      "text/plain": [
       "'I hate you'"
      ]
     },
     "execution_count": 63,
     "metadata": {},
     "output_type": "execute_result"
    }
   ],
   "source": [
    "text_lastmess"
   ]
  },
  {
   "cell_type": "code",
   "execution_count": 64,
   "metadata": {},
   "outputs": [],
   "source": [
    "emotion_lastmess=indicoio.emotion(text_lastmess)"
   ]
  },
  {
   "cell_type": "code",
   "execution_count": 65,
   "metadata": {},
   "outputs": [],
   "source": [
    "emot_dic={}\n",
    "emot_dic['anger']=['calm down']"
   ]
  },
  {
   "cell_type": "code",
   "execution_count": 66,
   "metadata": {},
   "outputs": [
    {
     "data": {
      "text/plain": [
       "{'anger': 0.3776872158050537,\n",
       " 'fear': 0.20777279138565063,\n",
       " 'joy': 0.08807134628295898,\n",
       " 'sadness': 0.239729106426239,\n",
       " 'surprise': 0.08673952519893646}"
      ]
     },
     "execution_count": 66,
     "metadata": {},
     "output_type": "execute_result"
    }
   ],
   "source": [
    "emotion_lastmess"
   ]
  },
  {
   "cell_type": "code",
   "execution_count": 71,
   "metadata": {},
   "outputs": [
    {
     "name": "stdout",
     "output_type": "stream",
     "text": [
      "['calm down']\n"
     ]
    }
   ],
   "source": [
    "if emotion_lastmess['anger']>0.3:\n",
    "    resp_mes=emot_dic['anger']\n",
    "print(resp_mes)"
   ]
  },
  {
   "cell_type": "code",
   "execution_count": 72,
   "metadata": {},
   "outputs": [
    {
     "data": {
      "text/plain": [
       "<Response [200]>"
      ]
     },
     "execution_count": 72,
     "metadata": {},
     "output_type": "execute_result"
    }
   ],
   "source": [
    "requests.post('https://api.vk.com/method/messages.send?peer_id=518240818&random_id=1&message=%s&access_token=fbdc5bd3cff381a236f0f30a1b58982ca4ddf1508e03a6513af837d67184c6ffa064d2a6737a897bc012e&v=5.92'%resp_mes)"
   ]
  },
  {
   "cell_type": "code",
   "execution_count": null,
   "metadata": {},
   "outputs": [],
   "source": []
  }
 ],
 "metadata": {
  "kernelspec": {
   "display_name": "Python 3",
   "language": "python",
   "name": "python3"
  },
  "language_info": {
   "codemirror_mode": {
    "name": "ipython",
    "version": 3
   },
   "file_extension": ".py",
   "mimetype": "text/x-python",
   "name": "python",
   "nbconvert_exporter": "python",
   "pygments_lexer": "ipython3",
   "version": "3.6.3"
  }
 },
 "nbformat": 4,
 "nbformat_minor": 2
}
